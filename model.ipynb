{
  "nbformat": 4,
  "nbformat_minor": 0,
  "metadata": {
    "colab": {
      "provenance": [],
      "gpuType": "T4",
      "authorship_tag": "ABX9TyMR2cgQGTI1PQQTe0xEyPLj",
      "include_colab_link": true
    },
    "kernelspec": {
      "name": "python3",
      "display_name": "Python 3"
    },
    "language_info": {
      "name": "python"
    },
    "accelerator": "GPU"
  },
  "cells": [
    {
      "cell_type": "markdown",
      "metadata": {
        "id": "view-in-github",
        "colab_type": "text"
      },
      "source": [
        "<a href=\"https://colab.research.google.com/github/Avyukt-Gupta2012/MNIST/blob/main/model.ipynb\" target=\"_parent\"><img src=\"https://colab.research.google.com/assets/colab-badge.svg\" alt=\"Open In Colab\"/></a>"
      ]
    },
    {
      "cell_type": "code",
      "execution_count": 10,
      "metadata": {
        "colab": {
          "base_uri": "https://localhost:8080/"
        },
        "id": "NBIoDmguQAoY",
        "outputId": "59ec402d-d122-43db-873f-6b0ec0bc2aa6"
      },
      "outputs": [
        {
          "output_type": "stream",
          "name": "stdout",
          "text": [
            "tensor(9, device='cuda:0')\n"
          ]
        }
      ],
      "source": [
        "from torch import nn, save, load\n",
        "from torch.optim import Adam\n",
        "from torch.utils.data import DataLoader\n",
        "from torchvision import datasets\n",
        "from torchvision.transforms import ToTensor\n",
        "import torch\n",
        "from PIL import Image\n",
        "\n",
        "train = datasets.MNIST(root=\"Chess Network\", download=True, train=True, transform=ToTensor())\n",
        "dataset = DataLoader(train, 32)\n",
        "\n",
        "class ImageClassifier(nn.Module):\n",
        "    def __init__(self):\n",
        "        super().__init__()\n",
        "        self.model = nn.Sequential(\n",
        "            nn.Conv2d(1, 32, (3, 3)),\n",
        "            nn.ReLU(),\n",
        "            nn.Conv2d(32, 64, (3, 3)),\n",
        "            nn.ReLU(),\n",
        "            nn.Conv2d(64, 64, (3, 3)),\n",
        "            nn.ReLU(),\n",
        "            nn.Flatten(),\n",
        "            nn.Linear(64*(28-6)*(28-6), 10)\n",
        "        )\n",
        "\n",
        "    def forward(self, x):\n",
        "        return self.model(x)\n",
        "\n",
        "clf = ImageClassifier().to('cuda')\n",
        "opt = Adam(clf.parameters(), lr=1e-3)\n",
        "loss_fn = nn.CrossEntropyLoss()\n",
        "\n",
        "if __name__ == \"__main__\":\n",
        "    with open('/content/Chess Network/model_state.pt', 'rb') as f:\n",
        "      clf.load_state_dict(load(f))\n",
        "    img = Image.open('/content/Chess Network/img_3.jpg')\n",
        "    img_tensor = ToTensor()(img).unsqueeze(0).to('cuda')\n",
        "    print(torch.argmax(clf(img_tensor)))"
      ]
    }
  ]
}